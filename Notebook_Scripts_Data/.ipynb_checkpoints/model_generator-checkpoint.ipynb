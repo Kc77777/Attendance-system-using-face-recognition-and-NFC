{
 "cells": [
  {
   "cell_type": "code",
   "execution_count": 1,
   "id": "e7501912",
   "metadata": {},
   "outputs": [],
   "source": [
    "import pandas as pd\n",
    "import numpy as np\n",
    "import tensorflow as tf\n",
    "#import tensorflow_hub as hub\n",
    "from matplotlib import pyplot as plt\n",
    "from keras.models import load_model\n",
    "from sklearn.metrics import accuracy_score\n",
    "from sklearn.preprocessing import LabelEncoder\n",
    "from sklearn.preprocessing import Normalizer\n",
    "from sklearn.svm import SVC\n",
    "from sklearn.metrics import confusion_matrix\n",
    "import pickle"
   ]
  },
  {
   "cell_type": "markdown",
   "id": "4a1f90d4",
   "metadata": {},
   "source": [
    "## making labels and creating filenames in array"
   ]
  },
  {
   "cell_type": "code",
   "execution_count": 2,
   "id": "21f99ca9",
   "metadata": {},
   "outputs": [
    {
     "name": "stdout",
     "output_type": "stream",
     "text": [
      "                 CRN        Full Name\n",
      "count             48               48\n",
      "unique            48               48\n",
      "top     KCE074BCT001  AAKASH SHRESTHA\n",
      "freq               1                1\n",
      "            CRN          Full Name\n",
      "0  KCE074BCT001    AAKASH SHRESTHA\n",
      "1  KCE074BCT002  AAKASH RAJ DHAKAL\n",
      "2  KCE074BCT003     AAKRITI AGANJA\n",
      "3  KCE074BCT004     AAYUSH MUSYAJU\n",
      "4  KCE074BCT005      ABHINAV ARYAL\n"
     ]
    }
   ],
   "source": [
    "labels_csv = pd.read_csv(\"crnAndName.csv\")\n",
    "print(labels_csv.describe())\n",
    "print(labels_csv.head())"
   ]
  },
  {
   "cell_type": "code",
   "execution_count": 3,
   "id": "eae66315",
   "metadata": {},
   "outputs": [
    {
     "data": {
      "text/plain": [
       "array(['KCE074BCT001', 'KCE074BCT002', 'KCE074BCT003', 'KCE074BCT004',\n",
       "       'KCE074BCT005', 'KCE074BCT006', 'KCE074BCT007', 'KCE074BCT008',\n",
       "       'KCE074BCT009', 'KCE074BCT010', 'KCE074BCT011', 'KCE074BCT012',\n",
       "       'KCE074BCT013', 'KCE074BCT014', 'KCE074BCT015', 'KCE074BCT016',\n",
       "       'KCE074BCT017', 'KCE074BCT018', 'KCE074BCT019', 'KCE074BCT020',\n",
       "       'KCE074BCT021', 'KCE074BCT022', 'KCE074BCT023', 'KCE074BCT024',\n",
       "       'KCE074BCT025', 'KCE074BCT026', 'KCE074BCT027', 'KCE074BCT028',\n",
       "       'KCE074BCT029', 'KCE074BCT030', 'KCE074BCT031', 'KCE074BCT032',\n",
       "       'KCE074BCT033', 'KCE074BCT034', 'KCE074BCT035', 'KCE074BCT036',\n",
       "       'KCE074BCT037', 'KCE074BCT038', 'KCE074BCT039', 'KCE074BCT040',\n",
       "       'KCE074BCT041', 'KCE074BCT042', 'KCE074BCT043', 'KCE074BCT044',\n",
       "       'KCE074BCT045', 'KCE074BCT046', 'KCE074BCT047', 'KCE074BCT048'],\n",
       "      dtype=object)"
      ]
     },
     "execution_count": 3,
     "metadata": {},
     "output_type": "execute_result"
    }
   ],
   "source": [
    "# convert labels column to NumPy array\n",
    "unique_labels=labels_csv['CRN'].to_numpy()\n",
    "unique_labels"
   ]
  },
  {
   "cell_type": "code",
   "execution_count": 4,
   "id": "74e08bc5",
   "metadata": {},
   "outputs": [
    {
     "data": {
      "text/plain": [
       "['data/KCE074BCT001',\n",
       " 'data/KCE074BCT002',\n",
       " 'data/KCE074BCT003',\n",
       " 'data/KCE074BCT004',\n",
       " 'data/KCE074BCT005']"
      ]
     },
     "execution_count": 4,
     "metadata": {},
     "output_type": "execute_result"
    }
   ],
   "source": [
    "import os\n",
    "filedir=[\"data/\"+crn for crn in unique_labels]\n",
    "filedir[:5]"
   ]
  },
  {
   "cell_type": "code",
   "execution_count": 5,
   "id": "cc1908d5",
   "metadata": {},
   "outputs": [
    {
     "ename": "FileNotFoundError",
     "evalue": "[WinError 3] The system cannot find the path specified: 'data/KCE074BCT001'",
     "output_type": "error",
     "traceback": [
      "\u001b[1;31m---------------------------------------------------------------------------\u001b[0m",
      "\u001b[1;31mFileNotFoundError\u001b[0m                         Traceback (most recent call last)",
      "Cell \u001b[1;32mIn[5], line 4\u001b[0m\n\u001b[0;32m      2\u001b[0m labels\u001b[39m=\u001b[39m[]\n\u001b[0;32m      3\u001b[0m \u001b[39mfor\u001b[39;00m \u001b[39mdir\u001b[39m \u001b[39min\u001b[39;00m filedir:\n\u001b[1;32m----> 4\u001b[0m     files\u001b[39m=\u001b[39mos\u001b[39m.\u001b[39;49mlistdir(\u001b[39mdir\u001b[39;49m)\n\u001b[0;32m      5\u001b[0m     \u001b[39mfor\u001b[39;00m file \u001b[39min\u001b[39;00m files:\n\u001b[0;32m      6\u001b[0m         filetemp\u001b[39m=\u001b[39m\u001b[39mdir\u001b[39m\u001b[39m+\u001b[39m\u001b[39m'\u001b[39m\u001b[39m/\u001b[39m\u001b[39m'\u001b[39m\u001b[39m+\u001b[39mfile\n",
      "\u001b[1;31mFileNotFoundError\u001b[0m: [WinError 3] The system cannot find the path specified: 'data/KCE074BCT001'"
     ]
    }
   ],
   "source": [
    "filenames=[]\n",
    "labels=[]\n",
    "for dir in filedir:\n",
    "    files=os.listdir(dir)\n",
    "    for file in files:\n",
    "        filetemp=dir+'/'+file\n",
    "        filenames.append(filetemp)\n",
    "        labels.append(dir[5:])"
   ]
  },
  {
   "cell_type": "code",
   "execution_count": null,
   "id": "408eccbc",
   "metadata": {},
   "outputs": [],
   "source": [
    "#checking files and labels available\n",
    "print(len(filenames))\n",
    "len((labels))"
   ]
  },
  {
   "cell_type": "code",
   "execution_count": null,
   "id": "113349ee",
   "metadata": {},
   "outputs": [],
   "source": [
    "#checking labels and file name\n",
    "print(filenames[:5])\n",
    "print(labels[:5])"
   ]
  },
  {
   "cell_type": "code",
   "execution_count": null,
   "id": "2876d7a5",
   "metadata": {},
   "outputs": [],
   "source": [
    "np_labels=np.asarray(labels)\n",
    "print(np_labels)\n",
    "type(np_labels)"
   ]
  },
  {
   "cell_type": "code",
   "execution_count": null,
   "id": "b428aecd",
   "metadata": {},
   "outputs": [],
   "source": [
    "# Example: Turn one label into an array of booleans\n",
    "print(labels[0])\n",
    "labels[0] == unique_labels # use comparison operator to create boolean array"
   ]
  },
  {
   "cell_type": "code",
   "execution_count": null,
   "id": "de5fd68b",
   "metadata": {},
   "outputs": [],
   "source": [
    "# Turn every label into a boolean array\n",
    "boolean_labels = [label == np.array(unique_labels) for label in labels]\n",
    "boolean_labels[-2:]"
   ]
  },
  {
   "cell_type": "code",
   "execution_count": null,
   "id": "428cea0f",
   "metadata": {},
   "outputs": [],
   "source": [
    "# Example: Turning a boolean array into integers\n",
    "print(labels[0]) # original label\n",
    "print(np.where(unique_labels == labels[0])[0][0]) # index where label occurs\n",
    "print(boolean_labels[0].argmax()) # index where label occurs in boolean array\n",
    "print(boolean_labels[0].astype(int)) # there will be a 1 where the sample label occurs"
   ]
  },
  {
   "cell_type": "markdown",
   "id": "12bc5565",
   "metadata": {},
   "source": [
    "## creating validation list in small data"
   ]
  },
  {
   "cell_type": "code",
   "execution_count": null,
   "id": "3b1ca925",
   "metadata": {},
   "outputs": [],
   "source": [
    "# Setup X & y variables\n",
    "X = filenames\n",
    "y = np_labels"
   ]
  },
  {
   "cell_type": "code",
   "execution_count": null,
   "id": "0ec4ed01",
   "metadata": {},
   "outputs": [],
   "source": [
    "# Set number of images to use for experimenting\n",
    "NUM_IMAGES = 500 #@param {type:\"slider\", min:1000, max:10000, step:1000}\n",
    "NUM_IMAGES"
   ]
  },
  {
   "cell_type": "code",
   "execution_count": null,
   "id": "44591d44",
   "metadata": {},
   "outputs": [],
   "source": [
    "# Import train_test_split from Scikit-Learn\n",
    "from sklearn.model_selection import train_test_split\n",
    "\n",
    "# Split them into training and validation using NUM_IMAGES \n",
    "X_train, X_val, y_train, y_val = train_test_split(X,\n",
    "                                                  y, \n",
    "                                                  test_size=0.2,\n",
    "                                                 random_state=42)\n",
    "\n",
    "len(X_train), len(y_train), len(X_val), len(y_val)"
   ]
  },
  {
   "cell_type": "code",
   "execution_count": null,
   "id": "d43e9512",
   "metadata": {},
   "outputs": [],
   "source": [
    "X_train[:5], y_train[:5]"
   ]
  },
  {
   "cell_type": "markdown",
   "id": "0c2bc126",
   "metadata": {},
   "source": [
    "## Preprocessing images (turning images into Tensors)"
   ]
  },
  {
   "cell_type": "code",
   "execution_count": null,
   "id": "82313bd8",
   "metadata": {},
   "outputs": [],
   "source": [
    "# Convert image to NumPy array\n",
    "from matplotlib.pyplot import imread\n",
    "image = imread(filenames[0]) # read in an image\n",
    "image.shape"
   ]
  },
  {
   "cell_type": "code",
   "execution_count": null,
   "id": "20f5688f",
   "metadata": {},
   "outputs": [],
   "source": [
    "#tf.constant convert list into tensor\n",
    "tf.constant(image)[:2]"
   ]
  },
  {
   "cell_type": "code",
   "execution_count": null,
   "id": "98629c9d",
   "metadata": {},
   "outputs": [],
   "source": [
    "# Define image size\n",
    "IMG_SIZE = 160\n",
    "\n",
    "def process_image(image_path):\n",
    "  \"\"\"\n",
    "  Takes an image file path and turns it into a Tensor.\n",
    "  \"\"\"\n",
    "  image = tf.io.read_file(image_path)\n",
    "  image = tf.image.decode_jpeg(image, channels=3)\n",
    "  image = tf.image.convert_image_dtype(image, tf.float32)\n",
    "  image = tf.image.resize(image, size=[IMG_SIZE, IMG_SIZE])\n",
    "  return image"
   ]
  },
  {
   "cell_type": "markdown",
   "id": "d4cb272f",
   "metadata": {},
   "source": [
    "## Creating data batches"
   ]
  },
  {
   "cell_type": "code",
   "execution_count": null,
   "id": "940b929e",
   "metadata": {},
   "outputs": [],
   "source": [
    "# Create a simple function to return a tuple (image, label)\n",
    "def get_image_label(image_path, label):\n",
    "  \"\"\"\n",
    "  Takes an image file path name and the associated label,\n",
    "  processes the image and returns a tuple of (image, label).\n",
    "  \"\"\"\n",
    "  image = process_image(image_path)\n",
    "  return image, label"
   ]
  },
  {
   "cell_type": "code",
   "execution_count": null,
   "id": "fa99528d",
   "metadata": {},
   "outputs": [],
   "source": [
    "# Define the batch size, 32 is a good default\n",
    "BATCH_SIZE = 32\n",
    "\n",
    "# Create a function to turn data into batches\n",
    "def create_data_batches(x, y=None, batch_size=BATCH_SIZE, valid_data=False, test_data=False):\n",
    "    if test_data:\n",
    "        print(\"Creating test data batches...\")\n",
    "        data = tf.data.Dataset.from_tensor_slices((tf.constant(x))) # only filepaths\n",
    "        data_batch = data.map(process_image).batch(BATCH_SIZE)\n",
    "        return data_batch\n",
    "  \n",
    "    elif valid_data:\n",
    "        print(\"Creating validation data batches...\")\n",
    "        data = tf.data.Dataset.from_tensor_slices((tf.constant(x),tf.constant(y)))\n",
    "        data_batch = data.map(get_image_label).batch(BATCH_SIZE)\n",
    "        return data_batch\n",
    "    else:\n",
    "        print(\"Creating training data batches...\")\n",
    "        data = tf.data.Dataset.from_tensor_slices((tf.constant(x),tf.constant(y)))# filenames                                                 \n",
    "        data = data.shuffle(buffer_size=len(x))\n",
    "# Create (image, label) tuples (this also turns the image path into a preprocessed image)\n",
    "        data = data.map(get_image_label)\n",
    "        data_batch = data.batch(BATCH_SIZE)\n",
    "    return data_batch"
   ]
  },
  {
   "cell_type": "code",
   "execution_count": null,
   "id": "00ad2aab",
   "metadata": {},
   "outputs": [],
   "source": [
    "# Create training and validation data batches\n",
    "train_data = create_data_batches(X_train,test_data=True)\n",
    "val_data = create_data_batches(X_val,test_data=True)"
   ]
  },
  {
   "cell_type": "code",
   "execution_count": null,
   "id": "ab6b2513",
   "metadata": {},
   "outputs": [],
   "source": [
    "# Check out the different attributes of our data batches\n",
    "train_data.element_spec, val_data.element_spec"
   ]
  },
  {
   "cell_type": "markdown",
   "id": "c468b960",
   "metadata": {},
   "source": [
    "## Visualizing data batches"
   ]
  },
  {
   "cell_type": "code",
   "execution_count": null,
   "id": "1697db04",
   "metadata": {},
   "outputs": [],
   "source": [
    "import matplotlib.pyplot as plt\n",
    "\n",
    "# Create a function for viewing images in a data batch\n",
    "def show_25_images(images):\n",
    "  \"\"\"\n",
    "  Displays 25 images from a data batch.\n",
    "  \"\"\"\n",
    "  # Setup the figure\n",
    "  plt.figure(figsize=(10, 10))\n",
    "  # Loop through 25 (for displaying 25 images)\n",
    "  for i in range(25):\n",
    "    ax = plt.subplot(5, 5, i+1)\n",
    "    plt.imshow(images[i])\n",
    "    plt.axis(\"off\")"
   ]
  },
  {
   "cell_type": "code",
   "execution_count": null,
   "id": "d8da19bc",
   "metadata": {},
   "outputs": [],
   "source": [
    "# Visualize training images from the training data batch\n",
    "train_images = next(train_data.as_numpy_iterator())\n",
    "show_25_images(train_images)"
   ]
  },
  {
   "cell_type": "code",
   "execution_count": null,
   "id": "e8e1fa73",
   "metadata": {},
   "outputs": [],
   "source": [
    "# Visualize validation images from the validation data batch\n",
    "val_images=next(val_data.as_numpy_iterator())\n",
    "show_25_images(val_images)"
   ]
  },
  {
   "cell_type": "markdown",
   "id": "18f0a7af",
   "metadata": {},
   "source": [
    "## Building a model"
   ]
  },
  {
   "cell_type": "code",
   "execution_count": null,
   "id": "1a0e6626",
   "metadata": {},
   "outputs": [],
   "source": [
    "# Setup input shape to the model\n",
    "INPUT_SHAPE = [None, IMG_SIZE, IMG_SIZE, 3] # batch, height, width, colour channels"
   ]
  },
  {
   "cell_type": "code",
   "execution_count": null,
   "id": "9e3849db",
   "metadata": {},
   "outputs": [],
   "source": [
    "INPUT_SHAPE"
   ]
  },
  {
   "cell_type": "code",
   "execution_count": null,
   "id": "7546b2d4",
   "metadata": {},
   "outputs": [],
   "source": [
    "#find embeddings\n",
    "model = load_model('model/facenet_keras.h5')\n",
    "X_train_emb = model.predict(train_data)\n",
    "X_val_emb = model.predict(val_data)"
   ]
  },
  {
   "cell_type": "code",
   "execution_count": null,
   "id": "bd7997bb",
   "metadata": {},
   "outputs": [],
   "source": [
    "# we have embedding of images\n",
    "X_train_emb.shape"
   ]
  },
  {
   "cell_type": "code",
   "execution_count": null,
   "id": "fe9fbbbe",
   "metadata": {},
   "outputs": [],
   "source": [
    "X_val_emb.shape"
   ]
  },
  {
   "cell_type": "code",
   "execution_count": null,
   "id": "48c76396",
   "metadata": {},
   "outputs": [],
   "source": [
    "X_train_emb"
   ]
  },
  {
   "cell_type": "code",
   "execution_count": null,
   "id": "11b8275d",
   "metadata": {},
   "outputs": [],
   "source": [
    "X_val_emb"
   ]
  },
  {
   "cell_type": "markdown",
   "id": "55b4bd8f",
   "metadata": {},
   "source": [
    "## now svc "
   ]
  },
  {
   "cell_type": "code",
   "execution_count": null,
   "id": "ba01d9ea",
   "metadata": {},
   "outputs": [],
   "source": [
    "#normalize the embedded data\n",
    "in_encode = Normalizer(norm='l2')\n",
    "X_train_emb_nom = in_encode.transform(X_train_emb)\n",
    "X_val_emb_nom = in_encode.transform(X_val_emb)"
   ]
  },
  {
   "cell_type": "code",
   "execution_count": null,
   "id": "d08e9c9f",
   "metadata": {},
   "outputs": [],
   "source": [
    "X_train_emb_nom,X_train_emb_nom.shape,type(X_train_emb_nom)"
   ]
  },
  {
   "cell_type": "code",
   "execution_count": null,
   "id": "f49995f8",
   "metadata": {},
   "outputs": [],
   "source": [
    "y_train"
   ]
  },
  {
   "cell_type": "code",
   "execution_count": null,
   "id": "73354449",
   "metadata": {},
   "outputs": [],
   "source": [
    "#define svm classifier model new variable C=CLoseness aaded\n",
    "model_svc =SVC(kernel='poly',degree=5, probability=True,C=100)\n",
    "model_svc.fit(X_train_emb_nom,y_train)"
   ]
  },
  {
   "cell_type": "code",
   "execution_count": null,
   "id": "1d9ebde9",
   "metadata": {},
   "outputs": [],
   "source": [
    "model_svc.score(X_train_emb_nom,y_train)"
   ]
  },
  {
   "cell_type": "code",
   "execution_count": null,
   "id": "3fe42762",
   "metadata": {},
   "outputs": [],
   "source": [
    "model_svc.score(X_val_emb_nom,y_val)"
   ]
  },
  {
   "cell_type": "code",
   "execution_count": null,
   "id": "741082aa",
   "metadata": {},
   "outputs": [],
   "source": [
    "y_preds=model_svc.predict(X_val_emb_nom)"
   ]
  },
  {
   "cell_type": "code",
   "execution_count": null,
   "id": "6e8a8043",
   "metadata": {},
   "outputs": [],
   "source": [
    "model_svc.get_params()"
   ]
  },
  {
   "cell_type": "code",
   "execution_count": null,
   "id": "d2359156",
   "metadata": {
    "scrolled": true
   },
   "outputs": [],
   "source": [
    "from sklearn.model_selection import GridSearchCV\n",
    "grid={\"kernel\":['linear', 'poly', 'rbf', 'sigmoid'],'class_weight': ['balanced',None],'C': [ 1,10,100,200]}\n",
    "model_svc_best=GridSearchCV(estimator=model_svc,param_grid=grid,cv=5,verbose=2)\n",
    "model_svc_best.fit(X_train_emb_nom,y_train)"
   ]
  },
  {
   "cell_type": "code",
   "execution_count": null,
   "id": "c73e1fbc",
   "metadata": {},
   "outputs": [],
   "source": [
    "model_svc_best.best_estimator_"
   ]
  },
  {
   "cell_type": "code",
   "execution_count": null,
   "id": "500d0aab",
   "metadata": {},
   "outputs": [],
   "source": [
    "from sklearn.metrics import precision_score\n",
    "## precesion=tp / (tp + fp)\n",
    "print(precision_score(y_val, y_preds, average='macro'))\n",
    "print(precision_score(y_val, y_preds, average='micro'))\n",
    "print(precision_score(y_val, y_preds, average='weighted'))"
   ]
  },
  {
   "cell_type": "code",
   "execution_count": null,
   "id": "c08f8123",
   "metadata": {},
   "outputs": [],
   "source": [
    "from sklearn.metrics import recall_score\n",
    "print(recall_score(y_val, y_preds, average='macro'))\n",
    "print(recall_score(y_val, y_preds, average='micro'))\n",
    "print(recall_score(y_val, y_preds, average='weighted'))"
   ]
  },
  {
   "cell_type": "code",
   "execution_count": null,
   "id": "1df009b6",
   "metadata": {},
   "outputs": [],
   "source": [
    "from sklearn.metrics import confusion_matrix\n",
    "from sklearn.metrics import classification_report\n",
    "\n",
    "conf_mat=confusion_matrix(y_val,y_preds)\n",
    "print('Confusion matrix : \\n',conf_mat)"
   ]
  },
  {
   "cell_type": "code",
   "execution_count": null,
   "id": "2909c92d",
   "metadata": {},
   "outputs": [],
   "source": [
    "from sklearn.metrics import plot_confusion_matrix\n",
    "title= \"Confusion matrix\"\n",
    "fig, ax = plt.subplots(figsize=(12, 12))\n",
    "disp = plot_confusion_matrix(model_svc, X_val_emb_nom, y_val,cmap=plt.cm.Blues,ax=ax)\n",
    "plt.title(title,fontsize=32)\n",
    "plt.xticks(rotation='vertical')\n",
    "plt.show()"
   ]
  },
  {
   "cell_type": "markdown",
   "id": "27bf8063",
   "metadata": {},
   "source": [
    "# RANDOM FOREST"
   ]
  },
  {
   "cell_type": "code",
   "execution_count": null,
   "id": "41400670",
   "metadata": {},
   "outputs": [],
   "source": [
    "#Import Random Forest Model\n",
    "from sklearn.ensemble import RandomForestClassifier\n",
    "#Create a Gaussian Classifier\n",
    "randomforest=RandomForestClassifier(n_estimators=10)"
   ]
  },
  {
   "cell_type": "code",
   "execution_count": null,
   "id": "41c56133",
   "metadata": {},
   "outputs": [],
   "source": [
    "#Train the model using the training sets y_pred=clf.predict(X_test)\n",
    "randomforest.fit(X_train_emb_nom,y_train)"
   ]
  },
  {
   "cell_type": "code",
   "execution_count": null,
   "id": "0ca728f9",
   "metadata": {},
   "outputs": [],
   "source": [
    "#predict\n",
    "y_preds_rf=randomforest.predict(X_val_emb_nom)"
   ]
  },
  {
   "cell_type": "code",
   "execution_count": null,
   "id": "8ce980aa",
   "metadata": {},
   "outputs": [],
   "source": [
    "from sklearn import metrics\n",
    "# Model Accuracy, how often is the classifier correct?\n",
    "print(\"Accuracy:\",metrics.accuracy_score(y_val, y_preds_rf))"
   ]
  },
  {
   "cell_type": "code",
   "execution_count": null,
   "id": "3ef65235",
   "metadata": {},
   "outputs": [],
   "source": [
    "#precision \n",
    "print(precision_score(y_val, y_preds_rf, average='macro'))\n",
    "print(precision_score(y_val, y_preds_rf, average='micro'))\n",
    "print(precision_score(y_val, y_preds_rf, average='weighted'))"
   ]
  },
  {
   "cell_type": "code",
   "execution_count": null,
   "id": "51160a65",
   "metadata": {},
   "outputs": [],
   "source": [
    "print(recall_score(y_val, y_preds_rf, average='macro'))\n",
    "print(recall_score(y_val, y_preds_rf, average='micro'))\n",
    "print(recall_score(y_val, y_preds_rf, average='weighted'))"
   ]
  },
  {
   "cell_type": "code",
   "execution_count": null,
   "id": "00e136f2",
   "metadata": {},
   "outputs": [],
   "source": [
    "title= \"Confusion matrix\"\n",
    "fig, ax = plt.subplots(figsize=(12, 12))\n",
    "disp = plot_confusion_matrix(randomforest, X_val_emb_nom, y_val,cmap=plt.cm.Blues,ax=ax)\n",
    "plt.title(title,fontsize=32)\n",
    "plt.xticks(rotation='vertical')\n",
    "plt.show()"
   ]
  },
  {
   "cell_type": "markdown",
   "id": "75d8c8c2",
   "metadata": {},
   "source": [
    "# Check on Sample Image"
   ]
  },
  {
   "cell_type": "code",
   "execution_count": null,
   "id": "d0b556b9",
   "metadata": {},
   "outputs": [],
   "source": [
    "image=process_image('1.jpg')"
   ]
  },
  {
   "cell_type": "code",
   "execution_count": null,
   "id": "832214fc",
   "metadata": {},
   "outputs": [],
   "source": [
    "image"
   ]
  },
  {
   "cell_type": "code",
   "execution_count": null,
   "id": "765a2661",
   "metadata": {},
   "outputs": [],
   "source": [
    "image_1=tf.expand_dims(image, axis=0)"
   ]
  },
  {
   "cell_type": "code",
   "execution_count": null,
   "id": "44cc884a",
   "metadata": {},
   "outputs": [],
   "source": [
    "image_data=model.predict(image_1)"
   ]
  },
  {
   "cell_type": "code",
   "execution_count": null,
   "id": "55b9c2b4",
   "metadata": {},
   "outputs": [],
   "source": [
    "image_data"
   ]
  },
  {
   "cell_type": "code",
   "execution_count": null,
   "id": "a1477519",
   "metadata": {},
   "outputs": [],
   "source": [
    "in_encode = Normalizer(norm='l2')\n",
    "image_nom = in_encode.transform(image_data)"
   ]
  },
  {
   "cell_type": "code",
   "execution_count": null,
   "id": "4223fc6b",
   "metadata": {},
   "outputs": [],
   "source": [
    "model_svc.predict(image_nom)"
   ]
  },
  {
   "cell_type": "code",
   "execution_count": null,
   "id": "407306d9",
   "metadata": {},
   "outputs": [],
   "source": [
    "import datetime\n",
    "pickle.dump(model_svc,open(\"model/\"+datetime.datetime.now().strftime(\"%Y%m%d-%H%M%S\")+\"_svc.pk\",\"wb\"))"
   ]
  }
 ],
 "metadata": {
  "kernelspec": {
   "display_name": "Python 3 (ipykernel)",
   "language": "python",
   "name": "python3"
  },
  "language_info": {
   "codemirror_mode": {
    "name": "ipython",
    "version": 3
   },
   "file_extension": ".py",
   "mimetype": "text/x-python",
   "name": "python",
   "nbconvert_exporter": "python",
   "pygments_lexer": "ipython3",
   "version": "3.10.11"
  }
 },
 "nbformat": 4,
 "nbformat_minor": 5
}
